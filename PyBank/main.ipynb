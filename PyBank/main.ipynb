{
 "cells": [
  {
   "cell_type": "code",
   "execution_count": 209,
   "metadata": {},
   "outputs": [],
   "source": [
    "from pathlib import Path\n",
    "import csv\n",
    "import numpy as np"
   ]
  },
  {
   "cell_type": "code",
   "execution_count": 353,
   "metadata": {},
   "outputs": [],
   "source": [
    "csvpath = Path('./src/budget_data.csv')"
   ]
  },
  {
   "cell_type": "code",
   "execution_count": 354,
   "metadata": {},
   "outputs": [],
   "source": [
    "dates = []\n",
    "profit_loss = []\n",
    "months = 0\n",
    "date_amount = {}"
   ]
  },
  {
   "cell_type": "code",
   "execution_count": 355,
   "metadata": {},
   "outputs": [
    {
     "name": "stdout",
     "output_type": "stream",
     "text": [
      "['Jan-2010', 'Feb-2010', 'Mar-2010', 'Apr-2010', 'May-2010', 'Jun-2010', 'Jul-2010', 'Aug-2010', 'Sep-2010', 'Oct-2010', 'Nov-2010', 'Dec-2010', 'Jan-2011', 'Feb-2011', 'Mar-2011', 'Apr-2011', 'May-2011', 'Jun-2011', 'Jul-2011', 'Aug-2011', 'Sep-2011', 'Oct-2011', 'Nov-2011', 'Dec-2011', 'Jan-2012', 'Feb-2012', 'Mar-2012', 'Apr-2012', 'May-2012', 'Jun-2012', 'Jul-2012', 'Aug-2012', 'Sep-2012', 'Oct-2012', 'Nov-2012', 'Dec-2012', 'Jan-2013', 'Feb-2013', 'Mar-2013', 'Apr-2013', 'May-2013', 'Jun-2013', 'Jul-2013', 'Aug-2013', 'Sep-2013', 'Oct-2013', 'Nov-2013', 'Dec-2013', 'Jan-2014', 'Feb-2014', 'Mar-2014', 'Apr-2014', 'May-2014', 'Jun-2014', 'Jul-2014', 'Aug-2014', 'Sep-2014', 'Oct-2014', 'Nov-2014', 'Dec-2014', 'Jan-2015', 'Feb-2015', 'Mar-2015', 'Apr-2015', 'May-2015', 'Jun-2015', 'Jul-2015', 'Aug-2015', 'Sep-2015', 'Oct-2015', 'Nov-2015', 'Dec-2015', 'Jan-2016', 'Feb-2016', 'Mar-2016', 'Apr-2016', 'May-2016', 'Jun-2016', 'Jul-2016', 'Aug-2016', 'Sep-2016', 'Oct-2016', 'Nov-2016', 'Dec-2016', 'Jan-2017', 'Feb-2017']\n"
     ]
    }
   ],
   "source": [
    "with open(csvpath, 'r') as csvfile:\n",
    "    csvreader = csv.reader(csvfile, delimiter=',')\n",
    "    csv_header = next(csvreader)\n",
    "    \n",
    "    for row in csvreader:\n",
    "        \n",
    "        months += 1\n",
    "        time_period = row[0]\n",
    "        dates.append(time_period)\n",
    "        profit_loss_total = int(row[1])\n",
    "        profit_loss.append(profit_loss_total)\n",
    "        if time_period not in date_amount.keys():\n",
    "            date_amount[time_period] = profit_loss_total\n",
    "        else:\n",
    "            date_amount[time_period] = \"Stop trying to falsify amounts. I hear an audit coming \"\n",
    "            "
   ]
  },
  {
   "cell_type": "code",
   "execution_count": 356,
   "metadata": {},
   "outputs": [],
   "source": [
    "def net_total(total):\n",
    "    totality = 0\n",
    "    for net in total:\n",
    "        totality += net\n",
    "    return totality"
   ]
  },
  {
   "cell_type": "code",
   "execution_count": 362,
   "metadata": {},
   "outputs": [
    {
     "name": "stdout",
     "output_type": "stream",
     "text": [
      "-2288.2\n"
     ]
    }
   ],
   "source": [
    "def avg_change():\n",
    "    arr = np.array(profit_loss)\n",
    "    differ = np.diff(arr)\n",
    "    aver = (np.sum(differ))/months\n",
    "    return(round(aver, 2))\n",
    "print(avg_change())"
   ]
  },
  {
   "cell_type": "code",
   "execution_count": 329,
   "metadata": {},
   "outputs": [
    {
     "name": "stdout",
     "output_type": "stream",
     "text": [
      "2196167\n"
     ]
    }
   ],
   "source": [
    "def greatest_inc():\n",
    "    profit = 0\n",
    "    for i in range(len(profit_loss) - 1):\n",
    "        if profit_loss[i] < 0:\n",
    "            if (abs(profit_loss[i]) + profit_loss[i+1]) > profit:\n",
    "                profit = abs(profit_loss[i]) + profit_loss[i+1]\n",
    "                index_month = i + 1\n",
    "        elif profit_loss[i+1] < 0:\n",
    "            if (profit_loss[i] + abs(profit_loss[i+1])) > profit:\n",
    "                profit = profit_loss[i] + abs(profit_loss[i+1])\n",
    "                index_month = i + 1\n",
    "        elif (profit_loss[i] + profit_loss[i+1]) > profit:\n",
    "            profit = profit_loss[i] + profit_loss[i + 1]\n",
    "            index_month = i + 1\n",
    "            \n",
    "    return(profit, dates[index_month])"
   ]
  },
  {
   "cell_type": "code",
   "execution_count": 342,
   "metadata": {},
   "outputs": [
    {
     "data": {
      "text/plain": [
       "-2196167"
      ]
     },
     "execution_count": 342,
     "metadata": {},
     "output_type": "execute_result"
    }
   ],
   "source": [
    "def greatest_dec():\n",
    "    profit = 0\n",
    "    index_month = []\n",
    "    for i in range(len(profit_loss) - 1):\n",
    "        if profit_loss[i] > 0:\n",
    "            if ((profit_loss[i] * -1) + profit_loss[i+1]) < profit:\n",
    "                profit = (profit_loss[i] * -1) + profit_loss[i+1]\n",
    "                index_month = i + 1\n",
    "        elif profit_loss[i+1] > 0:\n",
    "            if (profit_loss[i] + (profit_loss[i+1] * -1)) < profit:\n",
    "                profit = profit_loss[i] + (profit_loss[i+1] * -1)\n",
    "                index_month = i + 1\n",
    "        elif (profit_loss[i] + profit_loss[i+1]) < profit:\n",
    "            profit = profit_loss[i] + profit_loss[i + 1]\n",
    "            index_month = i + 1\n",
    "\n",
    "    return(profit, dates[index_month])\n"
   ]
  },
  {
   "cell_type": "code",
   "execution_count": 365,
   "metadata": {},
   "outputs": [],
   "source": [
    "avg_change_prof_loss = avg_change()\n",
    "#greatest_increase_amount = greatest_inc()[0]\n",
    "#greatest_increase_month = greatest_inc()[1]\n",
    "greatest_decrease_amount = greatest_dec()[0]\n",
    "greatest_decrease_month = greatest_dec()[1]"
   ]
  },
  {
   "cell_type": "code",
   "execution_count": 369,
   "metadata": {},
   "outputs": [],
   "source": [
    "analysis_file = 'analysis.txt'\n",
    "with open(analysis_file, \"r+\") as file:\n",
    "    file.write(\"Financial Analysis \\n\")\n",
    "    file.write('---------------------------------------- \\n' )\n",
    "    file.write(f'Total Months: {months} \\n')\n",
    "    file.write(f'Total: ${net_total(profit_loss)} \\n')\n",
    "    file.write(f'Average Change: ${avg_change_prof_loss} \\n')\n",
    "    #file.write(f'Greatest Increase In Profits: {greatest_increase_month} (${greatest_increase_amount})')\n",
    "    file.write(f'Greatest Decrease In Profits: {greatest_decrease_month} (${greatest_decrease_amount}) \\n')    \n",
    "    \n",
    "    "
   ]
  },
  {
   "cell_type": "code",
   "execution_count": null,
   "metadata": {},
   "outputs": [],
   "source": []
  }
 ],
 "metadata": {
  "kernelspec": {
   "display_name": "Python 3",
   "language": "python",
   "name": "python3"
  },
  "language_info": {
   "codemirror_mode": {
    "name": "ipython",
    "version": 3
   },
   "file_extension": ".py",
   "mimetype": "text/x-python",
   "name": "python",
   "nbconvert_exporter": "python",
   "pygments_lexer": "ipython3",
   "version": "3.8.3"
  }
 },
 "nbformat": 4,
 "nbformat_minor": 4
}
